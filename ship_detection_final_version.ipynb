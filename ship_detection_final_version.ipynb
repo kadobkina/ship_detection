{
  "nbformat": 4,
  "nbformat_minor": 0,
  "metadata": {
    "colab": {
      "provenance": [],
      "gpuType": "T4",
      "authorship_tag": "ABX9TyOvG5XitIE1+mMJBTNcNX8G",
      "include_colab_link": true
    },
    "kernelspec": {
      "name": "python3",
      "display_name": "Python 3"
    },
    "language_info": {
      "name": "python"
    }
  },
  "cells": [
    {
      "cell_type": "markdown",
      "metadata": {
        "id": "view-in-github",
        "colab_type": "text"
      },
      "source": [
        "<a href=\"https://colab.research.google.com/github/kadobkina/ship_detection/blob/master/ship_detection_final_version.ipynb\" target=\"_parent\"><img src=\"https://colab.research.google.com/assets/colab-badge.svg\" alt=\"Open In Colab\"/></a>"
      ]
    },
    {
      "cell_type": "code",
      "execution_count": 1,
      "metadata": {
        "colab": {
          "base_uri": "https://localhost:8080/"
        },
        "id": "NmARDLTvuUiq",
        "outputId": "abcc345e-929b-4bda-80fc-3fbef331c740"
      },
      "outputs": [
        {
          "output_type": "stream",
          "name": "stderr",
          "text": [
            "YOLOv5 🚀 v7.0-193-g485da42 Python-3.10.12 torch-2.0.1+cu118 CPU\n"
          ]
        },
        {
          "output_type": "stream",
          "name": "stdout",
          "text": [
            "Setup complete ✅ (2 CPUs, 12.7 GB RAM, 24.2/107.7 GB disk)\n"
          ]
        }
      ],
      "source": [
        "!git clone https://github.com/ultralytics/yolov5  # clone\n",
        "%cd yolov5\n",
        "%pip install -r requirements.txt  # install\n",
        "\n",
        "import torch\n",
        "from yolov5 import utils\n",
        "display = utils.notebook_init() #check"
      ]
    },
    {
      "cell_type": "code",
      "source": [
        "!pip install roboflow\n",
        "\n",
        "from roboflow import Roboflow\n",
        "rf = Roboflow(api_key=\"AdHtrGL1W1V7nhXNkzlB\")\n",
        "project = rf.workspace(\"kadobkina\").project(\"ship-detection-ajhw4\")\n",
        "dataset = project.version(6).download(\"yolov5\")"
      ],
      "metadata": {
        "colab": {
          "base_uri": "https://localhost:8080/",
          "height": 1000
        },
        "id": "0gwRxcVFwMC1",
        "outputId": "c5f6a86b-ce2a-4077-d160-492108957be9"
      },
      "execution_count": 2,
      "outputs": [
        {
          "output_type": "stream",
          "name": "stdout",
          "text": [
            "Collecting roboflow\n",
            "  Downloading roboflow-1.1.0-py3-none-any.whl (57 kB)\n",
            "\u001b[2K     \u001b[90m━━━━━━━━━━━━━━━━━━━━━━━━━━━━━━━━━━━━━━━━\u001b[0m \u001b[32m57.0/57.0 kB\u001b[0m \u001b[31m2.2 MB/s\u001b[0m eta \u001b[36m0:00:00\u001b[0m\n",
            "\u001b[?25hCollecting certifi==2022.12.7 (from roboflow)\n",
            "  Downloading certifi-2022.12.7-py3-none-any.whl (155 kB)\n",
            "\u001b[2K     \u001b[90m━━━━━━━━━━━━━━━━━━━━━━━━━━━━━━━━━━━━━━━\u001b[0m \u001b[32m155.3/155.3 kB\u001b[0m \u001b[31m7.1 MB/s\u001b[0m eta \u001b[36m0:00:00\u001b[0m\n",
            "\u001b[?25hRequirement already satisfied: chardet==4.0.0 in /usr/local/lib/python3.10/dist-packages (from roboflow) (4.0.0)\n",
            "Collecting cycler==0.10.0 (from roboflow)\n",
            "  Downloading cycler-0.10.0-py2.py3-none-any.whl (6.5 kB)\n",
            "Collecting idna==2.10 (from roboflow)\n",
            "  Downloading idna-2.10-py2.py3-none-any.whl (58 kB)\n",
            "\u001b[2K     \u001b[90m━━━━━━━━━━━━━━━━━━━━━━━━━━━━━━━━━━━━━━━━\u001b[0m \u001b[32m58.8/58.8 kB\u001b[0m \u001b[31m6.1 MB/s\u001b[0m eta \u001b[36m0:00:00\u001b[0m\n",
            "\u001b[?25hRequirement already satisfied: kiwisolver>=1.3.1 in /usr/local/lib/python3.10/dist-packages (from roboflow) (1.4.4)\n",
            "Requirement already satisfied: matplotlib in /usr/local/lib/python3.10/dist-packages (from roboflow) (3.7.1)\n",
            "Requirement already satisfied: numpy>=1.18.5 in /usr/local/lib/python3.10/dist-packages (from roboflow) (1.22.4)\n",
            "Requirement already satisfied: opencv-python>=4.1.2 in /usr/local/lib/python3.10/dist-packages (from roboflow) (4.7.0.72)\n",
            "Requirement already satisfied: Pillow>=7.1.2 in /usr/local/lib/python3.10/dist-packages (from roboflow) (8.4.0)\n",
            "Collecting pyparsing==2.4.7 (from roboflow)\n",
            "  Downloading pyparsing-2.4.7-py2.py3-none-any.whl (67 kB)\n",
            "\u001b[2K     \u001b[90m━━━━━━━━━━━━━━━━━━━━━━━━━━━━━━━━━━━━━━━━\u001b[0m \u001b[32m67.8/67.8 kB\u001b[0m \u001b[31m6.0 MB/s\u001b[0m eta \u001b[36m0:00:00\u001b[0m\n",
            "\u001b[?25hRequirement already satisfied: python-dateutil in /usr/local/lib/python3.10/dist-packages (from roboflow) (2.8.2)\n",
            "Collecting python-dotenv (from roboflow)\n",
            "  Downloading python_dotenv-1.0.0-py3-none-any.whl (19 kB)\n",
            "Requirement already satisfied: requests in /usr/local/lib/python3.10/dist-packages (from roboflow) (2.27.1)\n",
            "Requirement already satisfied: six in /usr/local/lib/python3.10/dist-packages (from roboflow) (1.16.0)\n",
            "Collecting supervision (from roboflow)\n",
            "  Downloading supervision-0.11.1-py3-none-any.whl (55 kB)\n",
            "\u001b[2K     \u001b[90m━━━━━━━━━━━━━━━━━━━━━━━━━━━━━━━━━━━━━━━━\u001b[0m \u001b[32m55.6/55.6 kB\u001b[0m \u001b[31m5.0 MB/s\u001b[0m eta \u001b[36m0:00:00\u001b[0m\n",
            "\u001b[?25hRequirement already satisfied: urllib3>=1.26.6 in /usr/local/lib/python3.10/dist-packages (from roboflow) (1.26.16)\n",
            "Collecting wget (from roboflow)\n",
            "  Downloading wget-3.2.zip (10 kB)\n",
            "  Preparing metadata (setup.py) ... \u001b[?25l\u001b[?25hdone\n",
            "Requirement already satisfied: tqdm>=4.41.0 in /usr/local/lib/python3.10/dist-packages (from roboflow) (4.65.0)\n",
            "Requirement already satisfied: PyYAML>=5.3.1 in /usr/local/lib/python3.10/dist-packages (from roboflow) (6.0)\n",
            "Collecting requests-toolbelt (from roboflow)\n",
            "  Downloading requests_toolbelt-1.0.0-py2.py3-none-any.whl (54 kB)\n",
            "\u001b[2K     \u001b[90m━━━━━━━━━━━━━━━━━━━━━━━━━━━━━━━━━━━━━━━━\u001b[0m \u001b[32m54.5/54.5 kB\u001b[0m \u001b[31m5.4 MB/s\u001b[0m eta \u001b[36m0:00:00\u001b[0m\n",
            "\u001b[?25hRequirement already satisfied: contourpy>=1.0.1 in /usr/local/lib/python3.10/dist-packages (from matplotlib->roboflow) (1.1.0)\n",
            "Requirement already satisfied: fonttools>=4.22.0 in /usr/local/lib/python3.10/dist-packages (from matplotlib->roboflow) (4.40.0)\n",
            "Requirement already satisfied: packaging>=20.0 in /usr/local/lib/python3.10/dist-packages (from matplotlib->roboflow) (23.1)\n",
            "Requirement already satisfied: charset-normalizer~=2.0.0 in /usr/local/lib/python3.10/dist-packages (from requests->roboflow) (2.0.12)\n",
            "Building wheels for collected packages: wget\n",
            "  Building wheel for wget (setup.py) ... \u001b[?25l\u001b[?25hdone\n",
            "  Created wheel for wget: filename=wget-3.2-py3-none-any.whl size=9657 sha256=306698be25fa274882af9b4109b506384442088b2c832589c9154608c59b5afc\n",
            "  Stored in directory: /root/.cache/pip/wheels/8b/f1/7f/5c94f0a7a505ca1c81cd1d9208ae2064675d97582078e6c769\n",
            "Successfully built wget\n",
            "Installing collected packages: wget, python-dotenv, pyparsing, idna, cycler, certifi, supervision, requests-toolbelt, roboflow\n",
            "  Attempting uninstall: pyparsing\n",
            "    Found existing installation: pyparsing 3.1.0\n",
            "    Uninstalling pyparsing-3.1.0:\n",
            "      Successfully uninstalled pyparsing-3.1.0\n",
            "  Attempting uninstall: idna\n",
            "    Found existing installation: idna 3.4\n",
            "    Uninstalling idna-3.4:\n",
            "      Successfully uninstalled idna-3.4\n",
            "  Attempting uninstall: cycler\n",
            "    Found existing installation: cycler 0.11.0\n",
            "    Uninstalling cycler-0.11.0:\n",
            "      Successfully uninstalled cycler-0.11.0\n",
            "  Attempting uninstall: certifi\n",
            "    Found existing installation: certifi 2023.5.7\n",
            "    Uninstalling certifi-2023.5.7:\n",
            "      Successfully uninstalled certifi-2023.5.7\n",
            "Successfully installed certifi-2022.12.7 cycler-0.10.0 idna-2.10 pyparsing-2.4.7 python-dotenv-1.0.0 requests-toolbelt-1.0.0 roboflow-1.1.0 supervision-0.11.1 wget-3.2\n"
          ]
        },
        {
          "output_type": "display_data",
          "data": {
            "application/vnd.colab-display-data+json": {
              "pip_warning": {
                "packages": [
                  "certifi",
                  "cycler",
                  "idna",
                  "pyparsing"
                ]
              }
            }
          },
          "metadata": {}
        },
        {
          "output_type": "stream",
          "name": "stdout",
          "text": [
            "loading Roboflow workspace...\n",
            "loading Roboflow project...\n",
            "Downloading Dataset Version Zip in Ship-Detection-6 to yolov5pytorch: 97% [81248256 / 83381839] bytes"
          ]
        },
        {
          "output_type": "stream",
          "name": "stderr",
          "text": [
            "Extracting Dataset Version Zip to Ship-Detection-6 in yolov5pytorch:: 100%|██████████| 4178/4178 [00:01<00:00, 2451.52it/s]\n"
          ]
        }
      ]
    },
    {
      "cell_type": "code",
      "source": [
        "!python train.py --img 640 --batch-size 16 --epochs 40 --data {dataset.location}/data.yaml --weights yolov5s.pt --cache"
      ],
      "metadata": {
        "colab": {
          "base_uri": "https://localhost:8080/"
        },
        "id": "E8I9LQDJwMsO",
        "outputId": "447b1474-a919-4b2c-c5a4-8e9b8eda2c69"
      },
      "execution_count": 5,
      "outputs": [
        {
          "output_type": "stream",
          "name": "stdout",
          "text": [
            "\u001b[34m\u001b[1mtrain: \u001b[0mweights=yolov5s.pt, cfg=, data=/content/yolov5/Ship-Detection-6/data.yaml, hyp=data/hyps/hyp.scratch-low.yaml, epochs=40, batch_size=16, imgsz=640, rect=False, resume=False, nosave=False, noval=False, noautoanchor=False, noplots=False, evolve=None, bucket=, cache=ram, image_weights=False, device=, multi_scale=False, single_cls=False, optimizer=SGD, sync_bn=False, workers=8, project=runs/train, name=exp, exist_ok=False, quad=False, cos_lr=False, label_smoothing=0.0, patience=100, freeze=[0], save_period=-1, seed=0, local_rank=-1, entity=None, upload_dataset=False, bbox_interval=-1, artifact_alias=latest\n",
            "\u001b[34m\u001b[1mgithub: \u001b[0mup to date with https://github.com/ultralytics/yolov5 ✅\n",
            "YOLOv5 🚀 v7.0-193-g485da42 Python-3.10.12 torch-2.0.1+cu118 CPU\n",
            "\n",
            "\u001b[34m\u001b[1mhyperparameters: \u001b[0mlr0=0.01, lrf=0.01, momentum=0.937, weight_decay=0.0005, warmup_epochs=3.0, warmup_momentum=0.8, warmup_bias_lr=0.1, box=0.05, cls=0.5, cls_pw=1.0, obj=1.0, obj_pw=1.0, iou_t=0.2, anchor_t=4.0, fl_gamma=0.0, hsv_h=0.015, hsv_s=0.7, hsv_v=0.4, degrees=0.0, translate=0.1, scale=0.5, shear=0.0, perspective=0.0, flipud=0.0, fliplr=0.5, mosaic=1.0, mixup=0.0, copy_paste=0.0\n",
            "\u001b[34m\u001b[1mComet: \u001b[0mrun 'pip install comet_ml' to automatically track and visualize YOLOv5 🚀 runs in Comet\n",
            "\u001b[34m\u001b[1mTensorBoard: \u001b[0mStart with 'tensorboard --logdir runs/train', view at http://localhost:6006/\n",
            "Overriding model.yaml nc=80 with nc=1\n",
            "\n",
            "                 from  n    params  module                                  arguments                     \n",
            "  0                -1  1      3520  models.common.Conv                      [3, 32, 6, 2, 2]              \n",
            "  1                -1  1     18560  models.common.Conv                      [32, 64, 3, 2]                \n",
            "  2                -1  1     18816  models.common.C3                        [64, 64, 1]                   \n",
            "  3                -1  1     73984  models.common.Conv                      [64, 128, 3, 2]               \n",
            "  4                -1  2    115712  models.common.C3                        [128, 128, 2]                 \n",
            "  5                -1  1    295424  models.common.Conv                      [128, 256, 3, 2]              \n",
            "  6                -1  3    625152  models.common.C3                        [256, 256, 3]                 \n",
            "  7                -1  1   1180672  models.common.Conv                      [256, 512, 3, 2]              \n",
            "  8                -1  1   1182720  models.common.C3                        [512, 512, 1]                 \n",
            "  9                -1  1    656896  models.common.SPPF                      [512, 512, 5]                 \n",
            " 10                -1  1    131584  models.common.Conv                      [512, 256, 1, 1]              \n",
            " 11                -1  1         0  torch.nn.modules.upsampling.Upsample    [None, 2, 'nearest']          \n",
            " 12           [-1, 6]  1         0  models.common.Concat                    [1]                           \n",
            " 13                -1  1    361984  models.common.C3                        [512, 256, 1, False]          \n",
            " 14                -1  1     33024  models.common.Conv                      [256, 128, 1, 1]              \n",
            " 15                -1  1         0  torch.nn.modules.upsampling.Upsample    [None, 2, 'nearest']          \n",
            " 16           [-1, 4]  1         0  models.common.Concat                    [1]                           \n",
            " 17                -1  1     90880  models.common.C3                        [256, 128, 1, False]          \n",
            " 18                -1  1    147712  models.common.Conv                      [128, 128, 3, 2]              \n",
            " 19          [-1, 14]  1         0  models.common.Concat                    [1]                           \n",
            " 20                -1  1    296448  models.common.C3                        [256, 256, 1, False]          \n",
            " 21                -1  1    590336  models.common.Conv                      [256, 256, 3, 2]              \n",
            " 22          [-1, 10]  1         0  models.common.Concat                    [1]                           \n",
            " 23                -1  1   1182720  models.common.C3                        [512, 512, 1, False]          \n",
            " 24      [17, 20, 23]  1     16182  models.yolo.Detect                      [1, [[10, 13, 16, 30, 33, 23], [30, 61, 62, 45, 59, 119], [116, 90, 156, 198, 373, 326]], [128, 256, 512]]\n",
            "Model summary: 214 layers, 7022326 parameters, 7022326 gradients, 15.9 GFLOPs\n",
            "\n",
            "Transferred 343/349 items from yolov5s.pt\n",
            "\u001b[34m\u001b[1moptimizer:\u001b[0m SGD(lr=0.01) with parameter groups 57 weight(decay=0.0), 60 weight(decay=0.0005), 60 bias\n",
            "\u001b[34m\u001b[1malbumentations: \u001b[0mBlur(p=0.01, blur_limit=(3, 7)), MedianBlur(p=0.01, blur_limit=(3, 7)), ToGray(p=0.01), CLAHE(p=0.01, clip_limit=(1, 4.0), tile_grid_size=(8, 8))\n",
            "\u001b[34m\u001b[1mtrain: \u001b[0mScanning /content/yolov5/Ship-Detection-6/train/labels.cache... 1533 images, 132 backgrounds, 0 corrupt: 100% 1533/1533 [00:00<?, ?it/s]\n",
            "\u001b[34m\u001b[1mtrain: \u001b[0mCaching images (1.8GB ram): 100% 1533/1533 [00:11<00:00, 132.00it/s]\n",
            "\u001b[34m\u001b[1mval: \u001b[0mScanning /content/yolov5/Ship-Detection-6/valid/labels.cache... 350 images, 35 backgrounds, 0 corrupt: 100% 350/350 [00:00<?, ?it/s]\n",
            "\u001b[34m\u001b[1mval: \u001b[0mCaching images (0.4GB ram): 100% 350/350 [00:04<00:00, 82.22it/s]\n",
            "\n",
            "\u001b[34m\u001b[1mAutoAnchor: \u001b[0m4.54 anchors/target, 1.000 Best Possible Recall (BPR). Current anchors are a good fit to dataset ✅\n",
            "Plotting labels to runs/train/exp3/labels.jpg... \n",
            "Image sizes 640 train, 640 val\n",
            "Using 2 dataloader workers\n",
            "Logging results to \u001b[1mruns/train/exp3\u001b[0m\n",
            "Starting training for 40 epochs...\n",
            "\n",
            "      Epoch    GPU_mem   box_loss   obj_loss   cls_loss  Instances       Size\n",
            "       0/39         0G     0.1164    0.02668          0         49        640:  47% 45/96 [19:11<20:36, 24.25s/it]^C\n"
          ]
        }
      ]
    },
    {
      "cell_type": "code",
      "source": [
        "!python detect.py --weights /content/yolov5/Ship-Detection-6/best.pt --img 640 --conf 0.25 --source /content/yolov5/Ship-Detection-6/test/images --save-txt"
      ],
      "metadata": {
        "id": "Nb0tM2byznHc",
        "colab": {
          "base_uri": "https://localhost:8080/"
        },
        "outputId": "5b6f5392-1fa0-40fc-811b-1be4fd98847d"
      },
      "execution_count": 10,
      "outputs": [
        {
          "output_type": "stream",
          "name": "stdout",
          "text": [
            "\u001b[34m\u001b[1mdetect: \u001b[0mweights=['/content/yolov5/Ship-Detection-6/best.pt'], source=/content/yolov5/Ship-Detection-6/test/images, data=data/coco128.yaml, imgsz=[640, 640], conf_thres=0.25, iou_thres=0.45, max_det=1000, device=, view_img=False, save_txt=True, save_conf=False, save_crop=False, nosave=False, classes=None, agnostic_nms=False, augment=False, visualize=False, update=False, project=runs/detect, name=exp, exist_ok=False, line_thickness=3, hide_labels=False, hide_conf=False, half=False, dnn=False, vid_stride=1\n",
            "YOLOv5 🚀 v7.0-193-g485da42 Python-3.10.12 torch-2.0.1+cu118 CPU\n",
            "\n",
            "Fusing layers... \n",
            "Model summary: 157 layers, 7012822 parameters, 0 gradients, 15.8 GFLOPs\n",
            "image 1/200 /content/yolov5/Ship-Detection-6/test/images/test100_jpg.rf.df0772a588b55323cba05e7c3fa08164.jpg: 640x640 1 ship, 478.2ms\n",
            "image 2/200 /content/yolov5/Ship-Detection-6/test/images/test101_jpg.rf.9dc7adebea8798b37633e41881007ac3.jpg: 640x640 1 ship, 412.8ms\n",
            "image 3/200 /content/yolov5/Ship-Detection-6/test/images/test102_jpg.rf.8b2dbdda3095891cbc6d6229181ec876.jpg: 640x640 1 ship, 408.5ms\n",
            "image 4/200 /content/yolov5/Ship-Detection-6/test/images/test103_jpg.rf.11f9a435c4e3c606198dbd9ebf50ea18.jpg: 640x640 2 ships, 402.1ms\n",
            "image 5/200 /content/yolov5/Ship-Detection-6/test/images/test104_jpg.rf.e83d60dc8c3714bb3dd7483dfddedcd8.jpg: 640x640 2 ships, 388.2ms\n",
            "image 6/200 /content/yolov5/Ship-Detection-6/test/images/test105_jpg.rf.c403d4eb02adeb70e20f8bf154575318.jpg: 640x640 1 ship, 396.3ms\n",
            "image 7/200 /content/yolov5/Ship-Detection-6/test/images/test106_jpg.rf.93942079b955ab189194cbca0949f797.jpg: 640x640 3 ships, 394.0ms\n",
            "image 8/200 /content/yolov5/Ship-Detection-6/test/images/test107_jpg.rf.839e16f84b3a793aa7be903411f5a479.jpg: 640x640 3 ships, 387.4ms\n",
            "image 9/200 /content/yolov5/Ship-Detection-6/test/images/test108_jpg.rf.9d4c1b9683cb254d384d5208dda96eb5.jpg: 640x640 1 ship, 571.1ms\n",
            "image 10/200 /content/yolov5/Ship-Detection-6/test/images/test109_jpg.rf.e1ed9cbf0fb248f11e23c2597e5926ba.jpg: 640x640 1 ship, 656.1ms\n",
            "image 11/200 /content/yolov5/Ship-Detection-6/test/images/test10_jpg.rf.e072590854e66e6b4945a4cc49c4660e.jpg: 640x640 (no detections), 637.2ms\n",
            "image 12/200 /content/yolov5/Ship-Detection-6/test/images/test110_jpg.rf.39eb4a5e3fe7b2be2cd280a5a617cb51.jpg: 640x640 1 ship, 608.8ms\n",
            "image 13/200 /content/yolov5/Ship-Detection-6/test/images/test111_jpg.rf.533aebc70f9904054ad829c0ab52f211.jpg: 640x640 2 ships, 397.8ms\n",
            "image 14/200 /content/yolov5/Ship-Detection-6/test/images/test112_jpg.rf.a5de36762f3e46bf0ffdc4895e9ec326.jpg: 640x640 3 ships, 425.7ms\n",
            "image 15/200 /content/yolov5/Ship-Detection-6/test/images/test113_jpg.rf.57f686fe333b19e0c356d6ecfc7511d9.jpg: 640x640 2 ships, 393.8ms\n",
            "image 16/200 /content/yolov5/Ship-Detection-6/test/images/test114_jpg.rf.02b9b0ad9b5e082f8e7249f7eda2e70d.jpg: 640x640 1 ship, 397.7ms\n",
            "image 17/200 /content/yolov5/Ship-Detection-6/test/images/test115_jpg.rf.8e160e5acbaee0cb1b8f2d3e2582a000.jpg: 640x640 1 ship, 392.0ms\n",
            "image 18/200 /content/yolov5/Ship-Detection-6/test/images/test116_jpg.rf.06db111553b0fd6cb62a13af1f1f364a.jpg: 640x640 2 ships, 395.0ms\n",
            "image 19/200 /content/yolov5/Ship-Detection-6/test/images/test117_jpg.rf.2a59185c0bc7703793e2581f7d5f76ea.jpg: 640x640 5 ships, 401.2ms\n",
            "image 20/200 /content/yolov5/Ship-Detection-6/test/images/test118_jpg.rf.46fc26e45fc28a0251791b0c41b0555d.jpg: 640x640 8 ships, 385.5ms\n",
            "image 21/200 /content/yolov5/Ship-Detection-6/test/images/test119_jpg.rf.b861ec0b4e6dd606bfb729d88e7ba773.jpg: 640x640 3 ships, 401.5ms\n",
            "image 22/200 /content/yolov5/Ship-Detection-6/test/images/test11_jpg.rf.e16121aaff781e7c5bf942737313ae28.jpg: 640x640 1 ship, 399.5ms\n",
            "image 23/200 /content/yolov5/Ship-Detection-6/test/images/test120_jpg.rf.9daae667b48b08a4501b36c165edce27.jpg: 640x640 1 ship, 399.5ms\n",
            "image 24/200 /content/yolov5/Ship-Detection-6/test/images/test121_jpg.rf.41c8cc36c750ae885f171e77ea402c9d.jpg: 640x640 3 ships, 387.8ms\n",
            "image 25/200 /content/yolov5/Ship-Detection-6/test/images/test122_jpg.rf.ebf98f3f9575a85d9d7ab59693734f60.jpg: 640x640 2 ships, 388.3ms\n",
            "image 26/200 /content/yolov5/Ship-Detection-6/test/images/test123_jpg.rf.1bb1871225a9fabe70a6bfde66c16ad6.jpg: 640x640 1 ship, 402.4ms\n",
            "image 27/200 /content/yolov5/Ship-Detection-6/test/images/test124_jpg.rf.988a48402ffcb15485d09ebb15681754.jpg: 640x640 2 ships, 394.7ms\n",
            "image 28/200 /content/yolov5/Ship-Detection-6/test/images/test125_jpg.rf.555066e168cf9da13894b8e19c521356.jpg: 640x640 2 ships, 392.9ms\n",
            "image 29/200 /content/yolov5/Ship-Detection-6/test/images/test126_jpg.rf.5bd7fe491f4456ca933cfd9918b906bd.jpg: 640x640 2 ships, 412.4ms\n",
            "image 30/200 /content/yolov5/Ship-Detection-6/test/images/test127_jpg.rf.23f01669d40f9bd01b3a96f5eb0623cc.jpg: 640x640 3 ships, 406.5ms\n",
            "image 31/200 /content/yolov5/Ship-Detection-6/test/images/test128_jpg.rf.862437de8cdd637106668094689f2e1f.jpg: 640x640 3 ships, 403.2ms\n",
            "image 32/200 /content/yolov5/Ship-Detection-6/test/images/test129_jpg.rf.63efeb2d00ddfcde1c5aa75b0b2e49d4.jpg: 640x640 3 ships, 391.7ms\n",
            "image 33/200 /content/yolov5/Ship-Detection-6/test/images/test12_jpg.rf.d9b888100664aac46384e9b473144a59.jpg: 640x640 1 ship, 413.5ms\n",
            "image 34/200 /content/yolov5/Ship-Detection-6/test/images/test130_jpg.rf.6c30394cfdb767cb64a90b8f61098f52.jpg: 640x640 3 ships, 393.6ms\n",
            "image 35/200 /content/yolov5/Ship-Detection-6/test/images/test131_jpg.rf.a004411476556dbecbee9e7d419f072f.jpg: 640x640 1 ship, 392.7ms\n",
            "image 36/200 /content/yolov5/Ship-Detection-6/test/images/test132_jpg.rf.716f1f4a9ef69ebd257d742a7137ecc4.jpg: 640x640 3 ships, 398.4ms\n",
            "image 37/200 /content/yolov5/Ship-Detection-6/test/images/test133_jpg.rf.d6912650aa984c2a6efb421332a5c8e2.jpg: 640x640 1 ship, 633.7ms\n",
            "image 38/200 /content/yolov5/Ship-Detection-6/test/images/test134_jpg.rf.bca1c88a0ee403d0bdda38741b6b44a5.jpg: 640x640 2 ships, 645.2ms\n",
            "image 39/200 /content/yolov5/Ship-Detection-6/test/images/test135_jpg.rf.91795e4ded82ee92c4e205a97ea4a52e.jpg: 640x640 2 ships, 614.8ms\n",
            "image 40/200 /content/yolov5/Ship-Detection-6/test/images/test136_jpg.rf.ae68c187857c94dc2b4bf0cab4392f09.jpg: 640x640 2 ships, 594.9ms\n",
            "image 41/200 /content/yolov5/Ship-Detection-6/test/images/test137_jpg.rf.9357e58c144a4e9c4c733273646fe035.jpg: 640x640 1 ship, 397.8ms\n",
            "image 42/200 /content/yolov5/Ship-Detection-6/test/images/test138_jpg.rf.192d92d07813a1b7a282d8968f59f037.jpg: 640x640 1 ship, 399.7ms\n",
            "image 43/200 /content/yolov5/Ship-Detection-6/test/images/test139_jpg.rf.79eac1940a052add6e4944fde26d46c1.jpg: 640x640 1 ship, 383.5ms\n",
            "image 44/200 /content/yolov5/Ship-Detection-6/test/images/test13_jpg.rf.66ba513c8c9b07847796151c04be1dda.jpg: 640x640 1 ship, 415.6ms\n",
            "image 45/200 /content/yolov5/Ship-Detection-6/test/images/test140_jpg.rf.e7473f103a08dbe24715e6850af69adf.jpg: 640x640 1 ship, 416.7ms\n",
            "image 46/200 /content/yolov5/Ship-Detection-6/test/images/test141_jpg.rf.df20fa89e84532fbceaf0596a7392366.jpg: 640x640 1 ship, 402.4ms\n",
            "image 47/200 /content/yolov5/Ship-Detection-6/test/images/test142_jpg.rf.bdc2ca0fd29320d60e3a0b6fddf3b63b.jpg: 640x640 1 ship, 401.7ms\n",
            "image 48/200 /content/yolov5/Ship-Detection-6/test/images/test143_jpg.rf.94b159b84b5bab80b0abbab2eed43493.jpg: 640x640 1 ship, 443.4ms\n",
            "image 49/200 /content/yolov5/Ship-Detection-6/test/images/test144_jpg.rf.4adb56a0147ad98943481428a3aad507.jpg: 640x640 5 ships, 398.6ms\n",
            "image 50/200 /content/yolov5/Ship-Detection-6/test/images/test145_jpg.rf.b0bd51bb3eb1377fd84bd1b9a284deff.jpg: 640x640 1 ship, 406.2ms\n",
            "image 51/200 /content/yolov5/Ship-Detection-6/test/images/test146_jpg.rf.037eeafd44d3ea4d344048f162dacb68.jpg: 640x640 1 ship, 425.4ms\n",
            "image 52/200 /content/yolov5/Ship-Detection-6/test/images/test147_jpg.rf.5fb97ee255812b114e601f4cde017a0d.jpg: 640x640 1 ship, 398.3ms\n",
            "image 53/200 /content/yolov5/Ship-Detection-6/test/images/test148_jpg.rf.a759b104e351bfab00857e0674164791.jpg: 640x640 1 ship, 427.0ms\n",
            "image 54/200 /content/yolov5/Ship-Detection-6/test/images/test149_jpg.rf.2c1620310d3e6720027326dd25e0eec0.jpg: 640x640 1 ship, 404.7ms\n",
            "image 55/200 /content/yolov5/Ship-Detection-6/test/images/test14_jpg.rf.931b41dc84a3b82cdf8c639555023c59.jpg: 640x640 4 ships, 400.5ms\n",
            "image 56/200 /content/yolov5/Ship-Detection-6/test/images/test150_jpg.rf.7d512f28416058c85a017241bb2617f1.jpg: 640x640 1 ship, 417.2ms\n",
            "image 57/200 /content/yolov5/Ship-Detection-6/test/images/test151_jpg.rf.a5605c5710edcda53e89e8e3406a7946.jpg: 640x640 4 ships, 416.4ms\n",
            "image 58/200 /content/yolov5/Ship-Detection-6/test/images/test152_jpg.rf.165bef2d1730611830855b906838d110.jpg: 640x640 1 ship, 404.7ms\n",
            "image 59/200 /content/yolov5/Ship-Detection-6/test/images/test153_jpg.rf.3b75fac704a5ad920b47f8516b5afea3.jpg: 640x640 3 ships, 410.8ms\n",
            "image 60/200 /content/yolov5/Ship-Detection-6/test/images/test154_jpg.rf.19a9e234459f8dbe74fe9163bdf3bd67.jpg: 640x640 1 ship, 427.0ms\n",
            "image 61/200 /content/yolov5/Ship-Detection-6/test/images/test155_jpg.rf.62b11f29cbcf62839d6595e221bb0e08.jpg: 640x640 1 ship, 424.0ms\n",
            "image 62/200 /content/yolov5/Ship-Detection-6/test/images/test156_jpg.rf.b1e263c5f65fe0419a88df9ecdc93f12.jpg: 640x640 1 ship, 418.0ms\n",
            "image 63/200 /content/yolov5/Ship-Detection-6/test/images/test157_jpg.rf.57a4f5a3104c3b3f939fb231a67abd07.jpg: 640x640 1 ship, 413.5ms\n",
            "image 64/200 /content/yolov5/Ship-Detection-6/test/images/test158_jpg.rf.ac5bb42cdb298453435c524f953d8195.jpg: 640x640 1 ship, 624.9ms\n",
            "image 65/200 /content/yolov5/Ship-Detection-6/test/images/test159_jpg.rf.20032ba8678d595912b40fe39ba7d205.jpg: 640x640 1 ship, 656.9ms\n",
            "image 66/200 /content/yolov5/Ship-Detection-6/test/images/test15_jpg.rf.5f8f570b7943a163e4b25857ed89d5e9.jpg: 640x640 3 ships, 637.2ms\n",
            "image 67/200 /content/yolov5/Ship-Detection-6/test/images/test160_jpg.rf.d48c1350bd182dd5e938f423e5dc4209.jpg: 640x640 1 ship, 581.6ms\n",
            "image 68/200 /content/yolov5/Ship-Detection-6/test/images/test161_jpg.rf.6351fe50accaf158874193b674e8270a.jpg: 640x640 1 ship, 424.9ms\n",
            "image 69/200 /content/yolov5/Ship-Detection-6/test/images/test162_jpg.rf.44edab590bfd1905df1a320379efe263.jpg: 640x640 1 ship, 399.2ms\n",
            "image 70/200 /content/yolov5/Ship-Detection-6/test/images/test163_jpg.rf.342b774434eaecaa2f2a5cb942e03d78.jpg: 640x640 1 ship, 427.2ms\n",
            "image 71/200 /content/yolov5/Ship-Detection-6/test/images/test164_jpg.rf.b90306eed706d0e385fedbd604eecf62.jpg: 640x640 1 ship, 417.3ms\n",
            "image 72/200 /content/yolov5/Ship-Detection-6/test/images/test165_jpg.rf.660338568119679c2f874cd2f89cd58c.jpg: 640x640 1 ship, 396.1ms\n",
            "image 73/200 /content/yolov5/Ship-Detection-6/test/images/test166_jpg.rf.40765874e2391ac0583cd39cdc80bc2f.jpg: 640x640 2 ships, 418.2ms\n",
            "image 74/200 /content/yolov5/Ship-Detection-6/test/images/test167_jpg.rf.0f280297a63a2ea8b17f21ad6c947a89.jpg: 640x640 1 ship, 407.3ms\n",
            "image 75/200 /content/yolov5/Ship-Detection-6/test/images/test168_jpg.rf.998c19387f84c8617946c0eafa58d432.jpg: 640x640 1 ship, 404.4ms\n",
            "image 76/200 /content/yolov5/Ship-Detection-6/test/images/test169_jpg.rf.d68cfeab8302737d61ca8c18385dfb62.jpg: 640x640 1 ship, 386.7ms\n",
            "image 77/200 /content/yolov5/Ship-Detection-6/test/images/test16_jpg.rf.d5c327a8da10e594f80e7dd1d802a004.jpg: 640x640 3 ships, 398.6ms\n",
            "image 78/200 /content/yolov5/Ship-Detection-6/test/images/test170_jpg.rf.e362b3972b9a37a88bd4334af3660048.jpg: 640x640 1 ship, 395.7ms\n",
            "image 79/200 /content/yolov5/Ship-Detection-6/test/images/test171_jpg.rf.53b545418ba5edc5bfaec66085e2bc80.jpg: 640x640 1 ship, 390.0ms\n",
            "image 80/200 /content/yolov5/Ship-Detection-6/test/images/test172_jpg.rf.1bfc6e888b76f12334ee042fab023ea3.jpg: 640x640 2 ships, 403.7ms\n",
            "image 81/200 /content/yolov5/Ship-Detection-6/test/images/test173_jpg.rf.17fa4c29da4793b0ba40ab35fa5007e8.jpg: 640x640 1 ship, 402.4ms\n",
            "image 82/200 /content/yolov5/Ship-Detection-6/test/images/test174_jpg.rf.b4826febaa4b186492c368b3ed48bebe.jpg: 640x640 1 ship, 408.6ms\n",
            "image 83/200 /content/yolov5/Ship-Detection-6/test/images/test175_jpg.rf.d3566aeb8ad4ed171b842fff8394c8ee.jpg: 640x640 1 ship, 392.8ms\n",
            "image 84/200 /content/yolov5/Ship-Detection-6/test/images/test176_jpg.rf.1a426c628b03ef70a0685e141f858d69.jpg: 640x640 1 ship, 387.1ms\n",
            "image 85/200 /content/yolov5/Ship-Detection-6/test/images/test177_jpg.rf.40d21e6e19b9527e2e03a5f909a46234.jpg: 640x640 1 ship, 414.4ms\n",
            "image 86/200 /content/yolov5/Ship-Detection-6/test/images/test179_jpg.rf.602bad2d0ce3b38ab40f2a2eb0141775.jpg: 640x640 1 ship, 394.3ms\n",
            "image 87/200 /content/yolov5/Ship-Detection-6/test/images/test17_jpg.rf.b6407cd33a897d03a7cb3a7288a3ec96.jpg: 640x640 9 ships, 421.5ms\n",
            "image 88/200 /content/yolov5/Ship-Detection-6/test/images/test180_jpg.rf.658233d8ccee5ae9d44bacf94b92af83.jpg: 640x640 (no detections), 407.8ms\n",
            "image 89/200 /content/yolov5/Ship-Detection-6/test/images/test181_jpg.rf.ec690006a6edee32cdd1f895b7a6fbc0.jpg: 640x640 1 ship, 417.5ms\n",
            "image 90/200 /content/yolov5/Ship-Detection-6/test/images/test182_jpg.rf.b7997d961d29f935a9f0a43b15fb666b.jpg: 640x640 1 ship, 397.3ms\n",
            "image 91/200 /content/yolov5/Ship-Detection-6/test/images/test183_jpg.rf.00df8802994435369a809cd448aef7b9.jpg: 640x640 1 ship, 499.3ms\n",
            "image 92/200 /content/yolov5/Ship-Detection-6/test/images/test184_jpg.rf.886e5989ae3b9dd2c82a78decc003c5f.jpg: 640x640 1 ship, 662.9ms\n",
            "image 93/200 /content/yolov5/Ship-Detection-6/test/images/test185_jpg.rf.28a4e5a21b28f38146b658195c72eb13.jpg: 640x640 1 ship, 649.2ms\n",
            "image 94/200 /content/yolov5/Ship-Detection-6/test/images/test186_jpg.rf.9a415c2795d36a37b8c8a62d5913d0cc.jpg: 640x640 2 ships, 606.8ms\n",
            "image 95/200 /content/yolov5/Ship-Detection-6/test/images/test187_jpg.rf.cb1a5be78b9afd4f8c182643e364ceaf.jpg: 640x640 2 ships, 459.1ms\n",
            "image 96/200 /content/yolov5/Ship-Detection-6/test/images/test188_jpg.rf.91e53c07e0652aab3f59327b46ce3f75.jpg: 640x640 (no detections), 382.1ms\n",
            "image 97/200 /content/yolov5/Ship-Detection-6/test/images/test18_jpg.rf.e5615ca51cb0ed42a8b31ed96ba9c499.jpg: 640x640 11 ships, 405.5ms\n",
            "image 98/200 /content/yolov5/Ship-Detection-6/test/images/test1_jpg.rf.4150c80b71aab493a0f9a15d9b1be097.jpg: 640x640 1 ship, 397.3ms\n",
            "image 99/200 /content/yolov5/Ship-Detection-6/test/images/test201_jpg.rf.73175de57ac19a8aac265a62c0227512.jpg: 640x640 (no detections), 396.2ms\n",
            "image 100/200 /content/yolov5/Ship-Detection-6/test/images/test202_jpg.rf.04d76587efcb5adee97c9abc59c63926.jpg: 640x640 (no detections), 414.1ms\n",
            "image 101/200 /content/yolov5/Ship-Detection-6/test/images/test203_jpg.rf.1725dd331a0dabe3ff949dc359342fe1.jpg: 640x640 (no detections), 390.4ms\n",
            "image 102/200 /content/yolov5/Ship-Detection-6/test/images/test204_jpg.rf.7613e04e87964f5f2606fdae15944995.jpg: 640x640 (no detections), 405.9ms\n",
            "image 103/200 /content/yolov5/Ship-Detection-6/test/images/test205_jpg.rf.9d945c0143beead29ea4397643634973.jpg: 640x640 (no detections), 393.9ms\n",
            "image 104/200 /content/yolov5/Ship-Detection-6/test/images/test206_jpg.rf.8e96cc11051c2359d8eb0a83f6ff6155.jpg: 640x640 2 ships, 400.3ms\n",
            "image 105/200 /content/yolov5/Ship-Detection-6/test/images/test207_jpg.rf.433f3b2e59e3deb84ab6448da2621793.jpg: 640x640 (no detections), 390.8ms\n",
            "image 106/200 /content/yolov5/Ship-Detection-6/test/images/test208_jpg.rf.d49ab57206359192ce51c7f901762ead.jpg: 640x640 (no detections), 387.5ms\n",
            "image 107/200 /content/yolov5/Ship-Detection-6/test/images/test209_jpg.rf.32dc59c088f66649636e8964e6eba942.jpg: 640x640 (no detections), 403.0ms\n",
            "image 108/200 /content/yolov5/Ship-Detection-6/test/images/test210_jpg.rf.488470c4fd6803049bff7c714d61d7f0.jpg: 640x640 (no detections), 388.2ms\n",
            "image 109/200 /content/yolov5/Ship-Detection-6/test/images/test23_jpg.rf.734b1f179888e709e671ffb512c9dc2b.jpg: 640x640 1 ship, 387.9ms\n",
            "image 110/200 /content/yolov5/Ship-Detection-6/test/images/test24_jpg.rf.506bf949b9fa9fb741ee57d05a5ccd46.jpg: 640x640 3 ships, 406.3ms\n",
            "image 111/200 /content/yolov5/Ship-Detection-6/test/images/test25_jpg.rf.8af8e4f32ae460b28defe92a809e78f6.jpg: 640x640 1 ship, 401.0ms\n",
            "image 112/200 /content/yolov5/Ship-Detection-6/test/images/test27_jpg.rf.4e161864b0360cb8dc08504e7ccc6fc4.jpg: 640x640 1 ship, 393.3ms\n",
            "image 113/200 /content/yolov5/Ship-Detection-6/test/images/test29_jpg.rf.62272ee4da4afa25607773f999f59dd9.jpg: 640x640 6 ships, 389.4ms\n",
            "image 114/200 /content/yolov5/Ship-Detection-6/test/images/test30_jpg.rf.089637d79ad1a35cbf3ad885798545e8.jpg: 640x640 2 ships, 396.3ms\n",
            "image 115/200 /content/yolov5/Ship-Detection-6/test/images/test31_jpg.rf.7b11a78a2fc27fc039c99bf4d545eaf6.jpg: 640x640 1 ship, 402.3ms\n",
            "image 116/200 /content/yolov5/Ship-Detection-6/test/images/test33_jpg.rf.bcd74c0c7eeac0b3e5f0caff73e00e21.jpg: 640x640 1 ship, 406.1ms\n",
            "image 117/200 /content/yolov5/Ship-Detection-6/test/images/test34_jpg.rf.3413d5472b6650d4673eafee658afdb8.jpg: 640x640 1 ship, 415.6ms\n",
            "image 118/200 /content/yolov5/Ship-Detection-6/test/images/test36_jpg.rf.f882a5e55b6f0c36f1e09a583d8a6812.jpg: 640x640 2 ships, 399.4ms\n",
            "image 119/200 /content/yolov5/Ship-Detection-6/test/images/test40_jpg.rf.472e3ce7a12c8c001582ee00e784b105.jpg: 640x640 1 ship, 571.6ms\n",
            "image 120/200 /content/yolov5/Ship-Detection-6/test/images/test41_jpg.rf.fc49948a0c00377b3890f4682fa8d8c1.jpg: 640x640 2 ships, 652.6ms\n",
            "image 121/200 /content/yolov5/Ship-Detection-6/test/images/test43_jpg.rf.64226e3db6907a708986980d04a588e4.jpg: 640x640 6 ships, 642.9ms\n",
            "image 122/200 /content/yolov5/Ship-Detection-6/test/images/test46_jpg.rf.1fc533f1d9fffe37b042b868ed689b35.jpg: 640x640 1 ship, 623.3ms\n",
            "image 123/200 /content/yolov5/Ship-Detection-6/test/images/test4_jpg.rf.acfc0327d40d40aa41e9cf4712ac4dbd.jpg: 640x640 2 ships, 416.4ms\n",
            "image 124/200 /content/yolov5/Ship-Detection-6/test/images/test55_jpg.rf.c92e88516db0d2130f0bd2b5eb85ed23.jpg: 640x640 1 ship, 407.5ms\n",
            "image 125/200 /content/yolov5/Ship-Detection-6/test/images/test5_jpg.rf.ffd252471004f7200ef0bac68fc4fb0b.jpg: 640x640 1 ship, 403.4ms\n",
            "image 126/200 /content/yolov5/Ship-Detection-6/test/images/test68_jpg.rf.93ab58a28f0d24fc6413df16a8ae2aea.jpg: 640x640 4 ships, 412.1ms\n",
            "image 127/200 /content/yolov5/Ship-Detection-6/test/images/test6_jpg.rf.9aab423e95f4f339c2c990946eb9bccd.jpg: 640x640 1 ship, 411.1ms\n",
            "image 128/200 /content/yolov5/Ship-Detection-6/test/images/test7_jpg.rf.fd9240affe72a9dadfe8296306563226.jpg: 640x640 2 ships, 406.1ms\n",
            "image 129/200 /content/yolov5/Ship-Detection-6/test/images/test8_jpg.rf.a8c6f26656c13b7050d13b9674ff44ff.jpg: 640x640 2 ships, 404.2ms\n",
            "image 130/200 /content/yolov5/Ship-Detection-6/test/images/test96_jpg.rf.e751d35debb92234c657eb50a79f0d68.jpg: 640x640 (no detections), 389.8ms\n",
            "image 131/200 /content/yolov5/Ship-Detection-6/test/images/train325_jpg.rf.9a6b78401176729636fa269cec72e59e.jpg: 640x640 3 ships, 394.2ms\n",
            "image 132/200 /content/yolov5/Ship-Detection-6/test/images/train326_jpg.rf.d6e59573dd81b69fedbe70284a996fd4.jpg: 640x640 2 ships, 410.3ms\n",
            "image 133/200 /content/yolov5/Ship-Detection-6/test/images/train327_jpg.rf.160aba44fb653f1cc5abd21e07559fa5.jpg: 640x640 2 ships, 393.4ms\n",
            "image 134/200 /content/yolov5/Ship-Detection-6/test/images/train330_jpg.rf.4c3dd4d93ba394c08f469afae3e35bef.jpg: 640x640 2 ships, 397.9ms\n",
            "image 135/200 /content/yolov5/Ship-Detection-6/test/images/train332_jpg.rf.1f6f32fd2abe4988ea41df7cc5ca3f8a.jpg: 640x640 2 ships, 403.8ms\n",
            "image 136/200 /content/yolov5/Ship-Detection-6/test/images/train334_jpg.rf.912f569127151fffc0d3bcc99561482b.jpg: 640x640 6 ships, 396.0ms\n",
            "image 137/200 /content/yolov5/Ship-Detection-6/test/images/train335_jpg.rf.b003e3273c4904588455de7ae0793eb9.jpg: 640x640 6 ships, 403.4ms\n",
            "image 138/200 /content/yolov5/Ship-Detection-6/test/images/train336_jpg.rf.bb96dde1a135313392aff279c2ba6f79.jpg: 640x640 1 ship, 398.4ms\n",
            "image 139/200 /content/yolov5/Ship-Detection-6/test/images/train339_jpg.rf.e1c5b6960ad95b26cd28fe38db9c42b7.jpg: 640x640 2 ships, 416.0ms\n",
            "image 140/200 /content/yolov5/Ship-Detection-6/test/images/train340_jpg.rf.901b05b25d259c14546719e5e580472c.jpg: 640x640 5 ships, 408.4ms\n",
            "image 141/200 /content/yolov5/Ship-Detection-6/test/images/train342_jpg.rf.623009a70a9fa8f90c35ef8551e3a2d9.jpg: 640x640 2 ships, 390.6ms\n",
            "image 142/200 /content/yolov5/Ship-Detection-6/test/images/train344_jpg.rf.4d424fece9e9208e620e8df80d219684.jpg: 640x640 5 ships, 394.1ms\n",
            "image 143/200 /content/yolov5/Ship-Detection-6/test/images/train345_jpg.rf.364a019c14baae3bf7c2a80b486d4ca5.jpg: 640x640 2 ships, 397.7ms\n",
            "image 144/200 /content/yolov5/Ship-Detection-6/test/images/train346_jpg.rf.89642416bf03464c87ae5d2f69145489.jpg: 640x640 3 ships, 402.5ms\n",
            "image 145/200 /content/yolov5/Ship-Detection-6/test/images/train347_jpg.rf.effbfc0348dafba9a0ae789ceda6a4aa.jpg: 640x640 5 ships, 400.7ms\n",
            "image 146/200 /content/yolov5/Ship-Detection-6/test/images/train349_jpg.rf.4675cff6bce348ddc913e3b0d57cc4bb.jpg: 640x640 3 ships, 480.4ms\n",
            "image 147/200 /content/yolov5/Ship-Detection-6/test/images/train350_jpg.rf.09bbb0380f80d8e225f797dafa94709a.jpg: 640x640 4 ships, 652.1ms\n",
            "image 148/200 /content/yolov5/Ship-Detection-6/test/images/train351_jpg.rf.4986ff0303f7c11c496a4caa3846ea7f.jpg: 640x640 2 ships, 645.1ms\n",
            "image 149/200 /content/yolov5/Ship-Detection-6/test/images/train352_jpg.rf.356a2b96b1a8ed76a01d536a4f75eeac.jpg: 640x640 16 ships, 603.4ms\n",
            "image 150/200 /content/yolov5/Ship-Detection-6/test/images/train353_jpg.rf.23f0b35ef8e24e3c501bda3860bf70bb.jpg: 640x640 3 ships, 521.7ms\n",
            "image 151/200 /content/yolov5/Ship-Detection-6/test/images/train354_jpg.rf.8253a4798d935e146107689d2d6599de.jpg: 640x640 9 ships, 397.4ms\n",
            "image 152/200 /content/yolov5/Ship-Detection-6/test/images/train355_jpg.rf.3170b99855a323a0208ba594a680cb3e.jpg: 640x640 6 ships, 416.8ms\n",
            "image 153/200 /content/yolov5/Ship-Detection-6/test/images/train356_jpg.rf.e80d3a86f64231a7bb5df11184642ccf.jpg: 640x640 2 ships, 396.7ms\n",
            "image 154/200 /content/yolov5/Ship-Detection-6/test/images/train358_jpg.rf.20bb0d56238f2a1a2083acae880b5b77.jpg: 640x640 1 ship, 414.3ms\n",
            "image 155/200 /content/yolov5/Ship-Detection-6/test/images/train359_jpg.rf.9178c290350d6444532436fc292feaf8.jpg: 640x640 1 ship, 393.4ms\n",
            "image 156/200 /content/yolov5/Ship-Detection-6/test/images/train35_jpg.rf.1dd187e8d393364f58b1da39033e8014.jpg: 640x640 1 ship, 401.8ms\n",
            "image 157/200 /content/yolov5/Ship-Detection-6/test/images/train360_jpg.rf.3b0b8def8cb2316ecd6356a0ec176d22.jpg: 640x640 1 ship, 399.8ms\n",
            "image 158/200 /content/yolov5/Ship-Detection-6/test/images/train361_jpg.rf.6fb3cf9c4117ef5183108ef371044903.jpg: 640x640 1 ship, 406.4ms\n",
            "image 159/200 /content/yolov5/Ship-Detection-6/test/images/train362_jpg.rf.b1aaa7bb9706572ef6cb8019b3ce8267.jpg: 640x640 2 ships, 420.6ms\n",
            "image 160/200 /content/yolov5/Ship-Detection-6/test/images/train363_jpg.rf.f3b178c542c284568543a591d3a89fb5.jpg: 640x640 2 ships, 393.5ms\n",
            "image 161/200 /content/yolov5/Ship-Detection-6/test/images/train364_jpg.rf.54669483662a23263482ff11cd70a68d.jpg: 640x640 1 ship, 415.1ms\n",
            "image 162/200 /content/yolov5/Ship-Detection-6/test/images/train367_jpg.rf.94578f6a86d156f3382e133de1c0c489.jpg: 640x640 1 ship, 394.3ms\n",
            "image 163/200 /content/yolov5/Ship-Detection-6/test/images/train36_jpg.rf.1bb66c9c6679803ca3c262a308f6f36e.jpg: 640x640 1 ship, 396.0ms\n",
            "image 164/200 /content/yolov5/Ship-Detection-6/test/images/train370_jpg.rf.8e473a6787e697a44bca4af57725384d.jpg: 640x640 1 ship, 404.8ms\n",
            "image 165/200 /content/yolov5/Ship-Detection-6/test/images/train371_jpg.rf.812a04efdef18cab42834f4491998b37.jpg: 640x640 1 ship, 394.3ms\n",
            "image 166/200 /content/yolov5/Ship-Detection-6/test/images/train372_jpg.rf.f325e492f7aff563202dc46ddceb93b9.jpg: 640x640 1 ship, 400.0ms\n",
            "image 167/200 /content/yolov5/Ship-Detection-6/test/images/train373_jpg.rf.8c7990cf8e9fb71d955489e7e57b0405.jpg: 640x640 1 ship, 398.1ms\n",
            "image 168/200 /content/yolov5/Ship-Detection-6/test/images/train374_jpg.rf.376dee5337e736eb4d38e8de566b8853.jpg: 640x640 1 ship, 399.8ms\n",
            "image 169/200 /content/yolov5/Ship-Detection-6/test/images/train375_jpg.rf.0d0ece5aecdfcb69db5195cf0adfb5cc.jpg: 640x640 1 ship, 410.1ms\n",
            "image 170/200 /content/yolov5/Ship-Detection-6/test/images/train377_jpg.rf.6041975ca6fb8abb685b8c77c0163b2e.jpg: 640x640 2 ships, 402.3ms\n",
            "image 171/200 /content/yolov5/Ship-Detection-6/test/images/train378_jpg.rf.5464de9ae942fd606ad2ebfa401b9abb.jpg: 640x640 1 ship, 407.8ms\n",
            "image 172/200 /content/yolov5/Ship-Detection-6/test/images/train379_jpg.rf.0b7c95d936dc934ecd75f18470b87cfd.jpg: 640x640 2 ships, 397.1ms\n",
            "image 173/200 /content/yolov5/Ship-Detection-6/test/images/train380_jpg.rf.defcc0a9b053dea015733419062167ba.jpg: 640x640 1 ship, 410.2ms\n",
            "image 174/200 /content/yolov5/Ship-Detection-6/test/images/train381_jpg.rf.06e6bacd71ac8584413c4bbfe5e17d05.jpg: 640x640 1 ship, 584.2ms\n",
            "image 175/200 /content/yolov5/Ship-Detection-6/test/images/train382_jpg.rf.4f6acc6cca8cc4c4d62623995806eff6.jpg: 640x640 1 ship, 655.3ms\n",
            "image 176/200 /content/yolov5/Ship-Detection-6/test/images/train383_jpg.rf.bf6a31732ad3102ffe4a8f4c325b3c14.jpg: 640x640 1 ship, 640.0ms\n",
            "image 177/200 /content/yolov5/Ship-Detection-6/test/images/train384_jpg.rf.2e098aebbe3936bbdbd5372da155a78d.jpg: 640x640 1 ship, 616.9ms\n",
            "image 178/200 /content/yolov5/Ship-Detection-6/test/images/train385_jpg.rf.be07d1fa67e8c34b619724f7989b0ee2.jpg: 640x640 1 ship, 392.9ms\n",
            "image 179/200 /content/yolov5/Ship-Detection-6/test/images/train386_jpg.rf.5d205b34bff0cea65779cc1b8a613f82.jpg: 640x640 1 ship, 417.4ms\n",
            "image 180/200 /content/yolov5/Ship-Detection-6/test/images/train387_jpg.rf.d1370fbc729da7bf1deb973fdba86467.jpg: 640x640 (no detections), 396.3ms\n",
            "image 181/200 /content/yolov5/Ship-Detection-6/test/images/train389_jpg.rf.4693991177bb88b554c18df07bc000b6.jpg: 640x640 1 ship, 403.3ms\n",
            "image 182/200 /content/yolov5/Ship-Detection-6/test/images/train38_jpg.rf.efa2dbdb2b23c753741f9004e91573bd.jpg: 640x640 1 ship, 391.9ms\n",
            "image 183/200 /content/yolov5/Ship-Detection-6/test/images/train392_jpg.rf.aa97f497a62821155d4602eae1b2d2dd.jpg: 640x640 1 ship, 421.8ms\n",
            "image 184/200 /content/yolov5/Ship-Detection-6/test/images/train393_jpg.rf.8c7789269957e19996615044b93e838c.jpg: 640x640 1 ship, 407.1ms\n",
            "image 185/200 /content/yolov5/Ship-Detection-6/test/images/train394_jpg.rf.4d37f4bef66e267f01f6449e3eb35135.jpg: 640x640 1 ship, 396.4ms\n",
            "image 186/200 /content/yolov5/Ship-Detection-6/test/images/train397_jpg.rf.9ce87306985472cab9c5aaa3850212f2.jpg: 640x640 1 ship, 401.6ms\n",
            "image 187/200 /content/yolov5/Ship-Detection-6/test/images/train398_jpg.rf.5248886b5fa4e335186a7cd78cfecdc0.jpg: 640x640 1 ship, 401.9ms\n",
            "image 188/200 /content/yolov5/Ship-Detection-6/test/images/train39_jpg.rf.d27b722cf57f04599410d5506874a7d7.jpg: 640x640 1 ship, 410.0ms\n",
            "image 189/200 /content/yolov5/Ship-Detection-6/test/images/train400_jpg.rf.4192500306755ca5abfeaa6ddaa1e4ea.jpg: 640x640 1 ship, 397.1ms\n",
            "image 190/200 /content/yolov5/Ship-Detection-6/test/images/train401_jpg.rf.8f7f6fd39d2e4c44de9b57b61f8275e5.jpg: 640x640 3 ships, 404.4ms\n",
            "image 191/200 /content/yolov5/Ship-Detection-6/test/images/train405_jpg.rf.a2b60bd50be25c72b236c21d6f955131.jpg: 640x640 6 ships, 407.5ms\n",
            "image 192/200 /content/yolov5/Ship-Detection-6/test/images/train408_jpg.rf.660d90237d9dbddc5fa9bb38c4ae8025.jpg: 640x640 2 ships, 409.1ms\n",
            "image 193/200 /content/yolov5/Ship-Detection-6/test/images/train40_jpg.rf.fb4e8fa47b48ba30fdfd3ec89c977c28.jpg: 640x640 1 ship, 415.8ms\n",
            "image 194/200 /content/yolov5/Ship-Detection-6/test/images/train410_jpg.rf.659d6c5c00a360ab275cdfe3b75ded1e.jpg: 640x640 2 ships, 413.2ms\n",
            "image 195/200 /content/yolov5/Ship-Detection-6/test/images/train41_jpg.rf.ee4e09fe683c90c11034a5c40af81d99.jpg: 640x640 2 ships, 398.5ms\n",
            "image 196/200 /content/yolov5/Ship-Detection-6/test/images/train45_jpg.rf.5437b5665c7c6db1aa49b28aeab2a38a.jpg: 640x640 1 ship, 393.8ms\n",
            "image 197/200 /content/yolov5/Ship-Detection-6/test/images/train4_jpg.rf.e68b8590aebb740738a89cc6d17fb4aa.jpg: 640x640 1 ship, 406.1ms\n",
            "image 198/200 /content/yolov5/Ship-Detection-6/test/images/train57_jpg.rf.4405e21a50b0b143dd6d4dfa01c3f946.jpg: 640x640 1 ship, 405.7ms\n",
            "image 199/200 /content/yolov5/Ship-Detection-6/test/images/train60_jpg.rf.3d5613aa4a688d431df695e7bfea1e84.jpg: 640x640 1 ship, 402.9ms\n",
            "image 200/200 /content/yolov5/Ship-Detection-6/test/images/train7_jpg.rf.eecfe29020e991290ece09cd069e4c6d.jpg: 640x640 1 ship, 399.9ms\n",
            "Speed: 1.4ms pre-process, 434.0ms inference, 0.9ms NMS per image at shape (1, 3, 640, 640)\n",
            "Results saved to \u001b[1mruns/detect/exp2\u001b[0m\n",
            "186 labels saved to runs/detect/exp2/labels\n"
          ]
        }
      ]
    },
    {
      "cell_type": "code",
      "source": [
        "display.Image(filename='runs/detect/exp2/test106_jpg.rf.93942079b955ab189194cbca0949f797.jpg', width=600)"
      ],
      "metadata": {
        "colab": {
          "base_uri": "https://localhost:8080/",
          "height": 617
        },
        "id": "MrppNgodAw2v",
        "outputId": "d2718677-202d-46eb-beae-985e7d1f818b"
      },
      "execution_count": 35,
      "outputs": [
        {
          "output_type": "execute_result",
          "data": {
            "image/jpeg": "[encoded data removed]",
            "text/plain": [
              "<IPython.core.display.Image object>"
            ]
          },
          "metadata": {
            "image/jpeg": {
              "width": 600
            }
          },
          "execution_count": 35
        }
      ]
    },
    {
      "cell_type": "code",
      "source": [
        "imege_label_path = '/content/yolov5/runs/detect/exp2/labels/test106_jpg.rf.93942079b955ab189194cbca0949f797.txt'\n",
        "imege_path = '/content/yolov5/Ship-Detection-6/test/images/test106_jpg.rf.93942079b955ab189194cbca0949f797.jpg'\n",
        "\n",
        "f = open(imege_label_path, 'r')\n",
        "\n",
        "coord_bounding_boxes = [] #x,y,w,h of ships on the image\n",
        "for line in f:\n",
        "  coord_bounding_boxes.append(line)\n",
        "f.close()\n",
        "\n",
        "ships = []\n",
        "for index_bounding_boxes in range(len(coord_bounding_boxes)):\n",
        "  ships.append(coord_bounding_boxes[index_bounding_boxes][1:-2].split())\n",
        "ships"
      ],
      "metadata": {
        "colab": {
          "base_uri": "https://localhost:8080/"
        },
        "id": "exTSE6gAJe9x",
        "outputId": "2703dda9-8e03-41e8-c7cb-7090592da7ac"
      },
      "execution_count": 72,
      "outputs": [
        {
          "output_type": "execute_result",
          "data": {
            "text/plain": [
              "[['0.4375', '0.642969', '0.05625', '0.048437'],\n",
              " ['0.680469', '0.64375', '0.0515625', '0.05312'],\n",
              " ['0.490625', '0.515625', '0.228125', '0.07']]"
            ]
          },
          "metadata": {},
          "execution_count": 72
        }
      ]
    },
    {
      "cell_type": "code",
      "source": [
        "#рамки корабля относительно реального формата изображения\n",
        "for ship in ships:\n",
        "  for ind in range(len(ship)):\n",
        "    ship[ind] = 640*float(ship[ind])\n",
        "\n",
        "ships"
      ],
      "metadata": {
        "colab": {
          "base_uri": "https://localhost:8080/"
        },
        "id": "haBbKdGLJ8pl",
        "outputId": "2b1bcf31-9132-484f-e312-6c72c9784b8e"
      },
      "execution_count": 67,
      "outputs": [
        {
          "output_type": "execute_result",
          "data": {
            "text/plain": [
              "[[280.0, 411.50016, 36.0, 30.99968],\n",
              " [435.50016, 412.0, 33.0, 33.9968],\n",
              " [314.0, 330.0, 146.0, 44.800000000000004]]"
            ]
          },
          "metadata": {},
          "execution_count": 67
        }
      ]
    },
    {
      "cell_type": "markdown",
      "source": [
        "left, upper - верхний левый угол (x,y)\n",
        ">\n",
        "right, lower - нижний правый угол (x,y)"
      ],
      "metadata": {
        "id": "0_RMSH3cTADJ"
      }
    },
    {
      "cell_type": "code",
      "source": [
        "new_coord_ships = []\n",
        "for ship in ships:\n",
        "  (x,y,w,h) = ship\n",
        "\n",
        "  left = x-w*0.5\n",
        "  upper = y-h*0.5\n",
        "\n",
        "  right = x+w*0.5\n",
        "  lower = y+h*0.5\n",
        "\n",
        "  new_coord_ships.append([left,upper,right,lower])\n",
        "\n",
        "\n",
        "new_coord_ships"
      ],
      "metadata": {
        "colab": {
          "base_uri": "https://localhost:8080/"
        },
        "id": "6NsidG5YSDrW",
        "outputId": "f339428f-fa0c-483e-aa72-f3151537b45b"
      },
      "execution_count": 68,
      "outputs": [
        {
          "output_type": "execute_result",
          "data": {
            "text/plain": [
              "[[262.0, 396.00032, 298.0, 427.0],\n",
              " [419.00016, 395.0016, 452.00016, 428.9984],\n",
              " [241.0, 307.6, 387.0, 352.4]]"
            ]
          },
          "metadata": {},
          "execution_count": 68
        }
      ]
    },
    {
      "cell_type": "code",
      "source": [
        "from PIL import Image\n",
        "import numpy as np\n",
        "\n",
        "ships_objects_on_image = []\n",
        "ships_vectors = []\n",
        "\n",
        "for ship in new_coord_ships:\n",
        "  ships_objects_on_image.append(im.crop(ship))\n",
        "  ships_vectors.append(np.asarray(im.crop(ship)))\n",
        "\n",
        "for ind_ship in range(len(ships_objects_on_image)):\n",
        "  print('Ship №', ind_ship+1)\n",
        "  ships_objects_on_image[ind_ship].show()"
      ],
      "metadata": {
        "colab": {
          "base_uri": "https://localhost:8080/",
          "height": 178
        },
        "id": "d6IipA2HPMxS",
        "outputId": "15715de2-e32c-40ec-a2f4-d51b71bb4467"
      },
      "execution_count": 116,
      "outputs": [
        {
          "output_type": "stream",
          "name": "stdout",
          "text": [
            "Ship № 1\n"
          ]
        },
        {
          "output_type": "display_data",
          "data": {
            "text/plain": [
              "<PIL.Image.Image image mode=RGB size=36x31 at 0x7EFDCB8999C0>"
            ],
            "image/png": "[encoded data removed]"
          },
          "metadata": {}
        },
        {
          "output_type": "stream",
          "name": "stdout",
          "text": [
            "Ship № 2\n"
          ]
        },
        {
          "output_type": "display_data",
          "data": {
            "text/plain": [
              "<PIL.Image.Image image mode=RGB size=33x34 at 0x7EFDCB8999F0>"
            ],
            "image/png": "[encoded data removed]"
          },
          "metadata": {}
        },
        {
          "output_type": "stream",
          "name": "stdout",
          "text": [
            "Ship № 3\n"
          ]
        },
        {
          "output_type": "display_data",
          "data": {
            "text/plain": [
              "<PIL.Image.Image image mode=RGB size=146x44 at 0x7EFDCB89B0A0>"
            ],
            "image/png": "[encoded data removed]"
          },
          "metadata": {}
        }
      ]
    },
    {
      "cell_type": "code",
      "source": [
        "len(ships_vectors)"
      ],
      "metadata": {
        "colab": {
          "base_uri": "https://localhost:8080/"
        },
        "id": "iv8dtE-CUo1K",
        "outputId": "74ba79fe-1157-46fd-fcb9-5b1464537be1"
      },
      "execution_count": 117,
      "outputs": [
        {
          "output_type": "execute_result",
          "data": {
            "text/plain": [
              "3"
            ]
          },
          "metadata": {},
          "execution_count": 117
        }
      ]
    },
    {
      "cell_type": "code",
      "source": [
        "ships_vectors[0]"
      ],
      "metadata": {
        "colab": {
          "base_uri": "https://localhost:8080/"
        },
        "id": "qckIEoAZmuIp",
        "outputId": "87e11ef0-fc3b-4d87-fa38-19c4b8057dcc"
      },
      "execution_count": 120,
      "outputs": [
        {
          "output_type": "execute_result",
          "data": {
            "text/plain": [
              "array([[[ 17,   7,   5],\n",
              "        [ 19,   8,   6],\n",
              "        [ 19,   8,   6],\n",
              "        ...,\n",
              "        [ 65,  61,  52],\n",
              "        [ 72,  68,  59],\n",
              "        [ 67,  63,  54]],\n",
              "\n",
              "       [[ 20,  10,   8],\n",
              "        [ 24,  13,  11],\n",
              "        [ 30,  19,  17],\n",
              "        ...,\n",
              "        [ 78,  71,  63],\n",
              "        [ 79,  72,  64],\n",
              "        [ 66,  59,  51]],\n",
              "\n",
              "       [[ 26,  15,  13],\n",
              "        [ 31,  20,  18],\n",
              "        [ 42,  31,  29],\n",
              "        ...,\n",
              "        [110, 103,  95],\n",
              "        [108, 101,  93],\n",
              "        [ 76,  69,  61]],\n",
              "\n",
              "       ...,\n",
              "\n",
              "       [[ 26,  25,  21],\n",
              "        [ 30,  29,  25],\n",
              "        [ 34,  33,  29],\n",
              "        ...,\n",
              "        [177, 176, 171],\n",
              "        [202, 201, 196],\n",
              "        [203, 202, 197]],\n",
              "\n",
              "       [[ 30,  29,  25],\n",
              "        [ 34,  33,  29],\n",
              "        [ 28,  27,  23],\n",
              "        ...,\n",
              "        [171, 170, 165],\n",
              "        [182, 181, 176],\n",
              "        [212, 211, 206]],\n",
              "\n",
              "       [[ 32,  31,  27],\n",
              "        [ 36,  35,  31],\n",
              "        [ 29,  28,  24],\n",
              "        ...,\n",
              "        [142, 141, 136],\n",
              "        [152, 151, 146],\n",
              "        [178, 177, 172]]], dtype=uint8)"
            ]
          },
          "metadata": {},
          "execution_count": 120
        }
      ]
    },
    {
      "cell_type": "code",
      "source": [
        "ships_vectors[0].shape"
      ],
      "metadata": {
        "colab": {
          "base_uri": "https://localhost:8080/"
        },
        "id": "xezc5p02mdx6",
        "outputId": "a775f9db-dff7-4fd9-830b-1fbed3f84355"
      },
      "execution_count": 123,
      "outputs": [
        {
          "output_type": "execute_result",
          "data": {
            "text/plain": [
              "(31, 36, 3)"
            ]
          },
          "metadata": {},
          "execution_count": 123
        }
      ]
    },
    {
      "cell_type": "code",
      "source": [],
      "metadata": {
        "id": "FobzWK03nd_n"
      },
      "execution_count": null,
      "outputs": []
    }
  ]
}